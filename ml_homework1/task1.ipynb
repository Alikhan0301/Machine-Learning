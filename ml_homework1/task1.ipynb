{
 "cells": [
  {
   "cell_type": "code",
   "execution_count": 18,
   "metadata": {},
   "outputs": [
    {
     "name": "stdout",
     "output_type": "stream",
     "text": [
      "[[1, 4, 10, 15], [1, 16, 100, 225], [1, 64, 1000, 3375], [1, 256, 10000, 50625]]\n",
      "[[ 4.88488298 -1.83529147  0.20989643 -0.00727107]]\n"
     ]
    }
   ],
   "source": [
    "import re\n",
    "from scipy.spatial import distance\n",
    "import math\n",
    "from numpy import dot\n",
    "from numpy.linalg import norm\n",
    "def cos_distance (list1, list2):\n",
    "    sum1 = 0\n",
    "    sum2 = 0\n",
    "    sum3 = 0\n",
    "    for i in range (len(list1)) :\n",
    "            sum1 = sum1 + (list1[i] * list2[i])\n",
    "            sum2 = sum2 + (list1[i] * list1[i])\n",
    "            sum3 = sum3 + (list2[i] * list2[i])\n",
    "    \n",
    "    return 1 - sum1/(math.sqrt(sum3*sum2))\n",
    "    \n",
    "f = open(\"sentences.txt\", \"r\")\n",
    "print (f)\n",
    "s = {}\n",
    "d = 0\n",
    "n = 0\n",
    "\n",
    "mymap = {}\n",
    "if f.mode == \"r\" :\n",
    "    data = f.readlines()\n",
    "for line in data:\n",
    "    n = n + 1\n",
    "    line = line.lower()\n",
    "    words = re.split('[^a-z]', line)\n",
    "    for word in words:\n",
    "        if (word != \"\"):\n",
    "            if word not in s:\n",
    "                s[word] = d\n",
    "                d = d + 1\n",
    "Matrix = []\n",
    "o = 0\n",
    "for line in data:\n",
    "    line = line.lower()\n",
    "    words = re.split('[^a-z]', line)\n",
    "    nn = [0]*d\n",
    "    for word in words:          \n",
    "            for i in range(d):\n",
    "                if (word != \"\"):\n",
    "                    if i == s[word]:\n",
    "                         nn[i] = nn[i] + 1\n",
    "    Matrix.insert(o, nn)\n",
    "    o = o + 1\n",
    "\n",
    "#print Matrix\n",
    "min1 = cos_distance(Matrix[0], Matrix[1])\n",
    "min2 = cos_distance(Matrix[0], Matrix[2])\n",
    "id1, id2 = 1, 2\n",
    "if min1 > min2:\n",
    "    min3 = min2\n",
    "    min2 = min1\n",
    "    min1 = min3\n",
    "    id3 = id2\n",
    "    id2 = id1\n",
    "    id1 = id3\n",
    "for i in range(n):\n",
    "    if(i != 0):\n",
    "        #print distance.cosine(Matrix[0], Matrix[i])\n",
    "        if cos_distance(Matrix[0], Matrix[i]) < min1:\n",
    "            min2 = min1\n",
    "            id2 = id1\n",
    "            min1 = cos_distance(Matrix[0], Matrix[i])\n",
    "            id1 = i\n",
    "        elif cos_distance(Matrix[0], Matrix[i]) < min2:\n",
    "            min2 = cos_distance(Matrix[0], Matrix[i])\n",
    "            id2 = i\n",
    "\n",
    "print (id1, id2)"
   ]
  },
  {
   "cell_type": "code",
   "execution_count": null,
   "metadata": {},
   "outputs": [],
   "source": []
  }
 ],
 "metadata": {
  "kernelspec": {
   "display_name": "Python 3",
   "language": "python",
   "name": "python3"
  },
  "language_info": {
   "codemirror_mode": {
    "name": "ipython",
    "version": 3
   },
   "file_extension": ".py",
   "mimetype": "text/x-python",
   "name": "python",
   "nbconvert_exporter": "python",
   "pygments_lexer": "ipython3",
   "version": "3.6.5"
  }
 },
 "nbformat": 4,
 "nbformat_minor": 2
}
